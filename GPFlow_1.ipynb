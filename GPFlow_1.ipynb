{
  "nbformat": 4,
  "nbformat_minor": 0,
  "metadata": {
    "colab": {
      "name": "GPFlow Try1.ipynb",
      "provenance": [],
      "authorship_tag": "ABX9TyP0fPfNx+8ynx53gee4F2/U",
      "include_colab_link": true
    },
    "kernelspec": {
      "name": "python3",
      "display_name": "Python 3"
    },
    "language_info": {
      "name": "python"
    }
  },
  "cells": [
    {
      "cell_type": "markdown",
      "metadata": {
        "id": "view-in-github",
        "colab_type": "text"
      },
      "source": [
        "<a href=\"https://colab.research.google.com/github/paulinavaso/Tesis/blob/main/GPFlow_1.ipynb\" target=\"_parent\"><img src=\"https://colab.research.google.com/assets/colab-badge.svg\" alt=\"Open In Colab\"/></a>"
      ]
    },
    {
      "cell_type": "code",
      "metadata": {
        "id": "-RmtRc7Zkxnm"
      },
      "source": [
        "#!pip install gpflow\n",
        "#!pip install tensorflow"
      ],
      "execution_count": null,
      "outputs": []
    },
    {
      "cell_type": "code",
      "metadata": {
        "id": "NYvNAG0PkY88"
      },
      "source": [
        "import numpy as np\n",
        "import matplotlib.pyplot as plt\n",
        "import gpflow as gpf\n",
        "import tensorflow as tf\n",
        "\n",
        "from gpflow.utilities import print_summary\n",
        "from gpflow.ci_utils import ci_niter\n",
        "\n",
        "gpf.config.set_default_float(np.float64)\n",
        "gpf.config.set_default_summary_fmt(\"notebook\")\n",
        "np.random.seed(0)\n",
        "%matplotlib inline\n",
        "\n",
        "MAXITER = ci_niter(2000)"
      ],
      "execution_count": null,
      "outputs": []
    },
    {
      "cell_type": "code",
      "metadata": {
        "id": "2smkXSBkl0pq"
      },
      "source": [
        "N = 100  # number of points\n",
        "D = 1  # number of input dimensions\n",
        "M = 15  # number of inducing points\n",
        "L = 2  # number of latent GPs\n",
        "P = 3  # number of observations = output dimensions"
      ],
      "execution_count": null,
      "outputs": []
    },
    {
      "cell_type": "code",
      "metadata": {
        "id": "tpeM7SAvmGWB"
      },
      "source": [
        "def generate_data(N=100):\n",
        "    X = np.random.rand(N)[:, None] * 10 - 5  # Inputs = N x D\n",
        "    G = np.hstack((0.5 * np.sin(3 * X) + X, 3.0 * np.cos(X) - X))  # G = N x L\n",
        "    W = np.array([[0.5, -0.3, 1.5], [-0.4, 0.43, 0.0]])  # L x P\n",
        "    F = np.matmul(G, W)  # N x P\n",
        "    Y = F + np.random.randn(*F.shape) * [0.2, 0.2, 0.2]\n",
        "\n",
        "    return X, Y"
      ],
      "execution_count": null,
      "outputs": []
    },
    {
      "cell_type": "code",
      "metadata": {
        "id": "Im7mJNJzm5k2"
      },
      "source": [
        "X, Y = data = generate_data(N)\n",
        "Zinit = np.linspace(-5, 5, M)[:, None]"
      ],
      "execution_count": null,
      "outputs": []
    },
    {
      "cell_type": "code",
      "metadata": {
        "id": "6iYArfnbnXwG"
      },
      "source": [
        "def plot_model(m, lower=-8.0, upper=8.0):\n",
        "    pX = np.linspace(lower, upper, 100)[:, None]\n",
        "    pY, pYv = m.predict_y(pX)\n",
        "    if pY.ndim == 3:\n",
        "        pY = pY[:, 0, :]\n",
        "    plt.plot(X, Y, \"x\")\n",
        "    plt.gca().set_prop_cycle(None)\n",
        "    plt.plot(pX, pY)\n",
        "    for i in range(pY.shape[1]):\n",
        "        top = pY[:, i] + 2.0 * pYv[:, i] ** 0.5\n",
        "        bot = pY[:, i] - 2.0 * pYv[:, i] ** 0.5\n",
        "        plt.fill_between(pX[:, 0], top, bot, alpha=0.3)\n",
        "    plt.xlabel(\"X\")\n",
        "    plt.ylabel(\"f\")\n",
        "    plt.title(f\"ELBO: {m.elbo(data):.3}\")\n",
        "    plt.plot(Z, Z * 0.0, \"o\")"
      ],
      "execution_count": null,
      "outputs": []
    },
    {
      "cell_type": "code",
      "metadata": {
        "id": "922Wxd5SnipZ"
      },
      "source": [
        "# create multi-output kernel\n",
        "kernel = gpf.kernels.SharedIndependent(\n",
        "    gpf.kernels.SquaredExponential() + gpf.kernels.Linear(), output_dim=P\n",
        ")\n",
        "# initialization of inducing input locations (M random points from the training inputs)\n",
        "Z = Zinit.copy()\n",
        "# create multi-output inducing variables from Z\n",
        "iv = gpf.inducing_variables.SharedIndependentInducingVariables(\n",
        "    gpf.inducing_variables.InducingPoints(Z)\n",
        ")"
      ],
      "execution_count": null,
      "outputs": []
    },
    {
      "cell_type": "code",
      "metadata": {
        "colab": {
          "base_uri": "https://localhost:8080/",
          "height": 187
        },
        "id": "LRm1GqgXnnfB",
        "outputId": "93a2c76e-8cf8-4958-cbca-adc078907b31"
      },
      "source": [
        "# create SVGP model as usual and optimize\n",
        "m = gpf.models.SVGP(kernel, gpf.likelihoods.Gaussian(), inducing_variable=iv, num_latent_gps=P)\n",
        "print_summary(m)"
      ],
      "execution_count": null,
      "outputs": [
        {
          "output_type": "display_data",
          "data": {
            "text/html": [
              "<table>\n",
              "<thead>\n",
              "<tr><th>name                                      </th><th>class    </th><th>transform       </th><th>prior  </th><th>trainable  </th><th>shape      </th><th>dtype  </th><th>value           </th></tr>\n",
              "</thead>\n",
              "<tbody>\n",
              "<tr><td>SVGP.kernel.kernel.kernels[0].variance    </td><td>Parameter</td><td>Softplus        </td><td>       </td><td>True       </td><td>()         </td><td>float64</td><td>1.0             </td></tr>\n",
              "<tr><td>SVGP.kernel.kernel.kernels[0].lengthscales</td><td>Parameter</td><td>Softplus        </td><td>       </td><td>True       </td><td>()         </td><td>float64</td><td>1.0             </td></tr>\n",
              "<tr><td>SVGP.kernel.kernel.kernels[1].variance    </td><td>Parameter</td><td>Softplus        </td><td>       </td><td>True       </td><td>()         </td><td>float64</td><td>1.0             </td></tr>\n",
              "<tr><td>SVGP.likelihood.variance                  </td><td>Parameter</td><td>Softplus + Shift</td><td>       </td><td>True       </td><td>()         </td><td>float64</td><td>1.0             </td></tr>\n",
              "<tr><td>SVGP.inducing_variable.inducing_variable.Z</td><td>Parameter</td><td>Identity        </td><td>       </td><td>True       </td><td>(15, 1)    </td><td>float64</td><td>[[-5....        </td></tr>\n",
              "<tr><td>SVGP.q_mu                                 </td><td>Parameter</td><td>Identity        </td><td>       </td><td>True       </td><td>(15, 3)    </td><td>float64</td><td>[[0., 0., 0.... </td></tr>\n",
              "<tr><td>SVGP.q_sqrt                               </td><td>Parameter</td><td>FillTriangular  </td><td>       </td><td>True       </td><td>(3, 15, 15)</td><td>float64</td><td>[[[1., 0., 0....</td></tr>\n",
              "</tbody>\n",
              "</table>"
            ],
            "text/plain": [
              "<IPython.core.display.HTML object>"
            ]
          },
          "metadata": {
            "tags": []
          }
        }
      ]
    },
    {
      "cell_type": "code",
      "metadata": {
        "id": "7JGFRa5gnwUt"
      },
      "source": [
        "def optimize_model_with_scipy(model):\n",
        "    optimizer = gpf.optimizers.Scipy()\n",
        "    optimizer.minimize(\n",
        "        model.training_loss_closure(data),\n",
        "        variables=model.trainable_variables,\n",
        "        method=\"l-bfgs-b\",\n",
        "        options={\"disp\": True, \"maxiter\": MAXITER},\n",
        "    )\n",
        "\n",
        "\n",
        "optimize_model_with_scipy(m)"
      ],
      "execution_count": null,
      "outputs": []
    },
    {
      "cell_type": "code",
      "metadata": {
        "colab": {
          "base_uri": "https://localhost:8080/",
          "height": 255
        },
        "id": "qwbiRbhVnw0A",
        "outputId": "ad98cd77-60a4-4110-a1ae-42abde12252c"
      },
      "source": [
        "print_summary(m)"
      ],
      "execution_count": null,
      "outputs": [
        {
          "output_type": "display_data",
          "data": {
            "text/html": [
              "<table>\n",
              "<thead>\n",
              "<tr><th>name                                      </th><th>class    </th><th>transform       </th><th>prior  </th><th>trainable  </th><th>shape      </th><th>dtype  </th><th>value                                               </th></tr>\n",
              "</thead>\n",
              "<tbody>\n",
              "<tr><td>SVGP.kernel.kernel.kernels[0].variance    </td><td>Parameter</td><td>Softplus        </td><td>       </td><td>True       </td><td>()         </td><td>float64</td><td>0.8359580418378612                                  </td></tr>\n",
              "<tr><td>SVGP.kernel.kernel.kernels[0].lengthscales</td><td>Parameter</td><td>Softplus        </td><td>       </td><td>True       </td><td>()         </td><td>float64</td><td>0.7890030187917806                                  </td></tr>\n",
              "<tr><td>SVGP.kernel.kernel.kernels[1].variance    </td><td>Parameter</td><td>Softplus        </td><td>       </td><td>True       </td><td>()         </td><td>float64</td><td>1.2024025910268545                                  </td></tr>\n",
              "<tr><td>SVGP.likelihood.variance                  </td><td>Parameter</td><td>Softplus + Shift</td><td>       </td><td>True       </td><td>()         </td><td>float64</td><td>0.03804151796426614                                 </td></tr>\n",
              "<tr><td>SVGP.inducing_variable.inducing_variable.Z</td><td>Parameter</td><td>Identity        </td><td>       </td><td>True       </td><td>(15, 1)    </td><td>float64</td><td>[[-4.78398344...                                    </td></tr>\n",
              "<tr><td>SVGP.q_mu                                 </td><td>Parameter</td><td>Identity        </td><td>       </td><td>True       </td><td>(15, 3)    </td><td>float64</td><td>[[-0.8971457, 0.70365458, -1.51000568...            </td></tr>\n",
              "<tr><td>SVGP.q_sqrt                               </td><td>Parameter</td><td>FillTriangular  </td><td>       </td><td>True       </td><td>(3, 15, 15)</td><td>float64</td><td>[[[1.69255586e-02, 0.00000000e+00, 0.00000000e+00...</td></tr>\n",
              "</tbody>\n",
              "</table>"
            ],
            "text/plain": [
              "<IPython.core.display.HTML object>"
            ]
          },
          "metadata": {
            "tags": []
          }
        }
      ]
    },
    {
      "cell_type": "code",
      "metadata": {
        "colab": {
          "base_uri": "https://localhost:8080/",
          "height": 295
        },
        "id": "Xlj2HftInzeI",
        "outputId": "15c53ae9-db79-42c0-8b23-11fe1c536567"
      },
      "source": [
        "# Plot predictions and observations\n",
        "plot_model(m)"
      ],
      "execution_count": null,
      "outputs": [
        {
          "output_type": "display_data",
          "data": {
            "image/png": "[encoded data removed]",
            "text/plain": [
              "<Figure size 432x288 with 1 Axes>"
            ]
          },
          "metadata": {
            "tags": [],
            "needs_background": "light"
          }
        }
      ]
    },
    {
      "cell_type": "code",
      "metadata": {
        "id": "F0KhUa_2n4_0",
        "colab": {
          "base_uri": "https://localhost:8080/",
          "height": 120
        },
        "outputId": "bdba2f8a-7772-4d18-95e2-06fd2da1c430"
      },
      "source": [
        "print_summary(m.kernel)\n",
        "m.kernel.kernel.kernels[0].lengthscales"
      ],
      "execution_count": null,
      "outputs": [
        {
          "output_type": "display_data",
          "data": {
            "text/html": [
              "<table>\n",
              "<thead>\n",
              "<tr><th>name                                            </th><th>class    </th><th>transform  </th><th>prior  </th><th>trainable  </th><th>shape  </th><th>dtype  </th><th style=\"text-align: right;\">   value</th></tr>\n",
              "</thead>\n",
              "<tbody>\n",
              "<tr><td>SharedIndependent.kernel.kernels[0].variance    </td><td>Parameter</td><td>Softplus   </td><td>       </td><td>True       </td><td>()     </td><td>float64</td><td style=\"text-align: right;\">0.835958</td></tr>\n",
              "<tr><td>SharedIndependent.kernel.kernels[0].lengthscales</td><td>Parameter</td><td>Softplus   </td><td>       </td><td>True       </td><td>()     </td><td>float64</td><td style=\"text-align: right;\">0.789003</td></tr>\n",
              "<tr><td>SharedIndependent.kernel.kernels[1].variance    </td><td>Parameter</td><td>Softplus   </td><td>       </td><td>True       </td><td>()     </td><td>float64</td><td style=\"text-align: right;\">1.2024  </td></tr>\n",
              "</tbody>\n",
              "</table>"
            ],
            "text/plain": [
              "<IPython.core.display.HTML object>"
            ]
          },
          "metadata": {
            "tags": []
          }
        },
        {
          "output_type": "execute_result",
          "data": {
            "text/plain": [
              "<Parameter: dtype=float64, shape=[], fn=\"softplus\", numpy=0.7890030187917806>"
            ]
          },
          "metadata": {
            "tags": []
          },
          "execution_count": 15
        }
      ]
    },
    {
      "cell_type": "code",
      "metadata": {
        "id": "a8WW0mPFn5ZT"
      },
      "source": [
        ""
      ],
      "execution_count": null,
      "outputs": []
    }
  ]
}